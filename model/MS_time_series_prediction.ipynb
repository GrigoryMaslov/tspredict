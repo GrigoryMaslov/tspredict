{
  "nbformat": 4,
  "nbformat_minor": 0,
  "metadata": {
    "colab": {
      "provenance": []
    },
    "kernelspec": {
      "name": "python3",
      "display_name": "Python 3"
    },
    "language_info": {
      "name": "python"
    }
  },
  "cells": [
    {
      "cell_type": "code",
      "execution_count": null,
      "metadata": {
        "id": "NsYWvYwkkadx"
      },
      "outputs": [],
      "source": [
        "import jax.numpy as jnp\n",
        "from jax import grad, jit, vmap, random, devices\n",
        "import jax\n",
        "import flax\n",
        "from flax.training import train_state\n",
        "from flax import linen as nn\n",
        "import optax\n",
        "\n",
        "import matplotlib.pyplot as plt\n",
        "import pandas as pd\n",
        "import numpy as np"
      ]
    },
    {
      "cell_type": "markdown",
      "source": [
        "**Training the model on historical time series**"
      ],
      "metadata": {
        "id": "WHmM_oCbvTfP"
      }
    },
    {
      "cell_type": "code",
      "source": [
        "stock = pd.read_csv('...Microsoft time series/all_stocks_2006-01-01_to_2018-01-01.csv')"
      ],
      "metadata": {
        "id": "IFp6O0HIlind"
      },
      "execution_count": null,
      "outputs": []
    },
    {
      "cell_type": "code",
      "source": [
        "names = stock.Name.unique()"
      ],
      "metadata": {
        "id": "ddTcci5unCX_"
      },
      "execution_count": null,
      "outputs": []
    },
    {
      "cell_type": "code",
      "source": [
        "train = pd.DataFrame()\n",
        "for name in names:\n",
        "  curr_close = pd.DataFrame(stock[stock['Name'] == name]['Close'])\n",
        "  curr_close.columns = ['Close']\n",
        "  window = 21\n",
        "  for i in range(1, window + 1):\n",
        "    curr_close.loc[:, f'prev_val_{i}'] = curr_close['Close'].shift(i)\n",
        "  train = pd.concat([train,curr_close])\n",
        "\n",
        "train.dropna(inplace=True)\n",
        "train.info()"
      ],
      "metadata": {
        "id": "8zoo8xVmlzh8",
        "outputId": "ba3cb082-0429-4be0-a198-b806ef663e4f",
        "colab": {
          "base_uri": "https://localhost:8080/"
        }
      },
      "execution_count": null,
      "outputs": [
        {
          "output_type": "stream",
          "name": "stdout",
          "text": [
            "<class 'pandas.core.frame.DataFrame'>\n",
            "Int64Index: 92961 entries, 21 to 93611\n",
            "Data columns (total 22 columns):\n",
            " #   Column       Non-Null Count  Dtype  \n",
            "---  ------       --------------  -----  \n",
            " 0   Close        92961 non-null  float64\n",
            " 1   prev_val_1   92961 non-null  float64\n",
            " 2   prev_val_2   92961 non-null  float64\n",
            " 3   prev_val_3   92961 non-null  float64\n",
            " 4   prev_val_4   92961 non-null  float64\n",
            " 5   prev_val_5   92961 non-null  float64\n",
            " 6   prev_val_6   92961 non-null  float64\n",
            " 7   prev_val_7   92961 non-null  float64\n",
            " 8   prev_val_8   92961 non-null  float64\n",
            " 9   prev_val_9   92961 non-null  float64\n",
            " 10  prev_val_10  92961 non-null  float64\n",
            " 11  prev_val_11  92961 non-null  float64\n",
            " 12  prev_val_12  92961 non-null  float64\n",
            " 13  prev_val_13  92961 non-null  float64\n",
            " 14  prev_val_14  92961 non-null  float64\n",
            " 15  prev_val_15  92961 non-null  float64\n",
            " 16  prev_val_16  92961 non-null  float64\n",
            " 17  prev_val_17  92961 non-null  float64\n",
            " 18  prev_val_18  92961 non-null  float64\n",
            " 19  prev_val_19  92961 non-null  float64\n",
            " 20  prev_val_20  92961 non-null  float64\n",
            " 21  prev_val_21  92961 non-null  float64\n",
            "dtypes: float64(22)\n",
            "memory usage: 16.3 MB\n"
          ]
        }
      ]
    },
    {
      "cell_type": "code",
      "source": [
        "train_shuffled = train.to_numpy()\n",
        "np.random.shuffle(train_shuffled)"
      ],
      "metadata": {
        "id": "6yQx9RbUfCky"
      },
      "execution_count": null,
      "outputs": []
    },
    {
      "cell_type": "code",
      "source": [
        "y_train = train_shuffled[:,:3]\n",
        "X_train = train_shuffled[:,3:]"
      ],
      "metadata": {
        "id": "p7JagQKIpqD-"
      },
      "execution_count": null,
      "outputs": []
    },
    {
      "cell_type": "code",
      "source": [
        "class myLSTM(nn.Module):\n",
        "  features: int\n",
        "\n",
        "  def setup(self):\n",
        "    self.scan_cell = nn.scan(\n",
        "      nn.OptimizedLSTMCell,\n",
        "      variable_broadcast='params',\n",
        "      in_axes=1, out_axes=1,\n",
        "      split_rngs={'params': False})(self.features)\n",
        "    self.attention = nn.MultiHeadDotProductAttention(num_heads=1)\n",
        "\n",
        "  @nn.compact\n",
        "  def __call__(self, x):\n",
        "    (carry, hidden) = self.scan_cell.initialize_carry(jax.random.key(0), x[:, 0].shape)\n",
        "    (carry, hidden), x = self.scan_cell((carry, hidden), x)\n",
        "    x = self.attention(inputs_q=x, inputs_kv=x)\n",
        "    x = nn.Dense(32)(x[:,0,:])\n",
        "    x = nn.relu(x)\n",
        "    x = nn.Dense(3)(x)\n",
        "    return x"
      ],
      "metadata": {
        "id": "qCfKh-_wqM2u"
      },
      "execution_count": null,
      "outputs": []
    },
    {
      "cell_type": "code",
      "source": [
        "from flax.training import train_state\n",
        "\n",
        "def create_train_state(rng):\n",
        "  params = model.init(rng, jnp.array(X_train.reshape(-1,19,1)))['params']\n",
        "  tx = optax.adam(1e-4,0.85,0.97)\n",
        "  return train_state.TrainState.create(\n",
        "      apply_fn=model.apply, params=params, tx=tx)"
      ],
      "metadata": {
        "id": "ji5orGjbqYRP"
      },
      "execution_count": null,
      "outputs": []
    },
    {
      "cell_type": "code",
      "source": [
        "rng = jax.random.PRNGKey(0)\n",
        "rng, input_rng, init_rng = jax.random.split(rng,num=3)\n",
        "\n",
        "model = myLSTM(features = 64)\n",
        "\n",
        "seed = 0\n",
        "\n",
        "state = create_train_state(init_rng)\n",
        "\n",
        "model.apply({'params': state.params}, X_train[:10].reshape(-1,19,1)).shape"
      ],
      "metadata": {
        "colab": {
          "base_uri": "https://localhost:8080/"
        },
        "id": "Oykr3lQNqjd1",
        "outputId": "cc2d9530-1aca-47b4-aacf-a94a1346c3b2"
      },
      "execution_count": null,
      "outputs": [
        {
          "output_type": "execute_result",
          "data": {
            "text/plain": [
              "(10, 3)"
            ]
          },
          "metadata": {},
          "execution_count": 214
        }
      ]
    },
    {
      "cell_type": "code",
      "source": [
        "def compute_metrics(logits, labels):\n",
        "  loss = jnp.mean(optax.squared_error(logits, labels))\n",
        "  metrics = {\n",
        "      'loss': loss\n",
        "  }\n",
        "  return metrics"
      ],
      "metadata": {
        "id": "jn6X9SOzraMR"
      },
      "execution_count": null,
      "outputs": []
    },
    {
      "cell_type": "code",
      "source": [
        "@jax.jit\n",
        "def train_step(state, X, y):\n",
        "  def loss_fn(params):\n",
        "    logits = model.apply({'params': params}, X)\n",
        "    loss = jnp.mean(optax.squared_error(logits, y.reshape(-1,3)))\n",
        "    return loss, logits\n",
        "  grad_fn = jax.value_and_grad(loss_fn, has_aux=True)\n",
        "  (_, logits), grads = grad_fn(state.params)\n",
        "  state = state.apply_gradients(grads=grads)\n",
        "  metrics = compute_metrics(logits, y.reshape(-1,3))\n",
        "  return state, metrics"
      ],
      "metadata": {
        "id": "Pz5mLqFSrbRJ"
      },
      "execution_count": null,
      "outputs": []
    },
    {
      "cell_type": "code",
      "source": [
        "def train_model(state, X, y, num_epochs, batch_size):\n",
        "    # Training loop\n",
        "    for epoch in range(num_epochs):\n",
        "      for i in range(X.shape[0] // batch_size):\n",
        "        batch_X = X[i*batch_size: i*batch_size + batch_size]\n",
        "        batch_y= y[i*batch_size: i*batch_size + batch_size]\n",
        "        state, metrics = train_step(state, batch_X, batch_y)\n",
        "      if epoch % 100 == 0:\n",
        "        print(metrics)\n",
        "    return state"
      ],
      "metadata": {
        "id": "VQB5CMJ8rffX"
      },
      "execution_count": null,
      "outputs": []
    },
    {
      "cell_type": "code",
      "source": [
        "rng = jax.random.PRNGKey(0)\n",
        "rng, input_rng, init_rng = jax.random.split(rng,num=3)\n",
        "\n",
        "model = myLSTM(features = 64)\n",
        "\n",
        "seed = 45\n",
        "\n",
        "state = create_train_state(init_rng)\n",
        "del init_rng"
      ],
      "metadata": {
        "id": "tEbhR6qSrmuA"
      },
      "execution_count": null,
      "outputs": []
    },
    {
      "cell_type": "code",
      "source": [
        "trained_model_state = train_model(state, X_train.reshape(-1,19,1), y_train, num_epochs=1000, batch_size=1000)"
      ],
      "metadata": {
        "colab": {
          "base_uri": "https://localhost:8080/"
        },
        "id": "7GQqp6Wxrvpq",
        "outputId": "c472b9f3-77b5-4e08-d3d6-fe34832e523b"
      },
      "execution_count": null,
      "outputs": [
        {
          "output_type": "stream",
          "name": "stdout",
          "text": [
            "{'loss': Array(18030.871, dtype=float32)}\n",
            "{'loss': Array(6.8592916, dtype=float32)}\n",
            "{'loss': Array(6.160615, dtype=float32)}\n",
            "{'loss': Array(5.715201, dtype=float32)}\n",
            "{'loss': Array(5.149448, dtype=float32)}\n",
            "{'loss': Array(4.910259, dtype=float32)}\n",
            "{'loss': Array(4.791744, dtype=float32)}\n",
            "{'loss': Array(4.7249584, dtype=float32)}\n",
            "{'loss': Array(4.7023025, dtype=float32)}\n",
            "{'loss': Array(4.7110906, dtype=float32)}\n"
          ]
        }
      ]
    },
    {
      "cell_type": "code",
      "source": [
        "preds = model.apply({'params': trained_model_state.params}, X_train[0].reshape(-1,19,1))\n",
        "print('Test:', y_train[0])\n",
        "print('Preds:', preds[0])"
      ],
      "metadata": {
        "colab": {
          "base_uri": "https://localhost:8080/"
        },
        "id": "y1fYpLY7wOhI",
        "outputId": "4d94272a-48c8-4a58-c184-f69b58057572"
      },
      "execution_count": null,
      "outputs": [
        {
          "output_type": "stream",
          "name": "stdout",
          "text": [
            "Test: [19.39 19.63 19.6 ]\n",
            "Preds: [20.261118 20.23838  20.205559]\n"
          ]
        }
      ]
    },
    {
      "cell_type": "markdown",
      "source": [
        "**Testing the model on MS time series**"
      ],
      "metadata": {
        "id": "07nhEJIE31La"
      }
    },
    {
      "cell_type": "code",
      "source": [
        "MSts = pd.read_csv('...Microsoft time series/Microsoft_Stock.csv')\n",
        "MSts['Close'].plot()"
      ],
      "metadata": {
        "colab": {
          "base_uri": "https://localhost:8080/",
          "height": 447
        },
        "id": "MUEmrjCUvXQr",
        "outputId": "8dd8edcc-eb73-4193-c888-9eb29feef21a"
      },
      "execution_count": null,
      "outputs": [
        {
          "output_type": "execute_result",
          "data": {
            "text/plain": [
              "<Axes: >"
            ]
          },
          "metadata": {},
          "execution_count": 252
        },
        {
          "output_type": "display_data",
          "data": {
            "text/plain": [
              "<Figure size 640x480 with 1 Axes>"
            ],
            "image/png": "[encoded data removed]"
          },
          "metadata": {}
        }
      ]
    },
    {
      "cell_type": "code",
      "source": [
        "test = MSts.Close.to_numpy()\n",
        "start = 750\n",
        "x = test[start:start+19]\n",
        "y = test[start+19:start+22]\n",
        "\n",
        "preds = model.apply({'params': trained_model_state.params}, np.flip(x.reshape(-1,19,1)))\n",
        "\n",
        "plt.plot(np.concatenate((x,y)))\n",
        "plt.plot(np.concatenate((x, np.flip(preds.reshape(-1)))))\n",
        "plt.legend(['Real close price', 'Predicted price'])"
      ],
      "metadata": {
        "colab": {
          "base_uri": "https://localhost:8080/",
          "height": 447
        },
        "id": "hiJ1bIt-yLAT",
        "outputId": "de65a17a-5ca1-42ec-8fdf-85ba339c9958"
      },
      "execution_count": null,
      "outputs": [
        {
          "output_type": "execute_result",
          "data": {
            "text/plain": [
              "<matplotlib.legend.Legend at 0x7b47f4ba5b40>"
            ]
          },
          "metadata": {},
          "execution_count": 254
        },
        {
          "output_type": "display_data",
          "data": {
            "text/plain": [
              "<Figure size 640x480 with 1 Axes>"
            ],
            "image/png": "[encoded data removed]"
          },
          "metadata": {}
        }
      ]
    },
    {
      "cell_type": "code",
      "source": [
        "import pickle\n",
        "\n",
        "pkl_filename = \"/content/drive/MyDrive/Resume/Microsoft time series/model.pkl\"\n",
        "with open(pkl_filename, 'wb') as file:\n",
        "    pickle.dump(model, file)\n",
        "\n",
        "param_filename = \"/content/drive/MyDrive/Resume/Microsoft time series/param.pkl\"\n",
        "with open(param_filename, 'wb') as file:\n",
        "    pickle.dump(trained_model_state.params, file)\n",
        "\n",
        "# Load from file\n",
        "with open(pkl_filename, 'rb') as file:\n",
        "    pickle_model = pickle.load(file)\n",
        "\n",
        "with open(param_filename, 'rb') as file:\n",
        "  pickle_model_state = pickle.load(file)"
      ],
      "metadata": {
        "id": "L_fU85u2dE3N"
      },
      "execution_count": null,
      "outputs": []
    }
  ]
}